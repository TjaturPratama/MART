{
  "nbformat": 4,
  "nbformat_minor": 0,
  "metadata": {
    "colab": {
      "provenance": [],
      "authorship_tag": "ABX9TyP9XyYlExNfYW4Ic7O8qXmb",
      "include_colab_link": true
    },
    "kernelspec": {
      "name": "python3",
      "display_name": "Python 3"
    },
    "language_info": {
      "name": "python"
    }
  },
  "cells": [
    {
      "cell_type": "markdown",
      "metadata": {
        "id": "view-in-github",
        "colab_type": "text"
      },
      "source": [
        "<a href=\"https://colab.research.google.com/github/TjaturPratama/MART/blob/main/UAS_RO.ipynb\" target=\"_parent\"><img src=\"https://colab.research.google.com/assets/colab-badge.svg\" alt=\"Open In Colab\"/></a>"
      ]
    },
    {
      "cell_type": "code",
      "execution_count": null,
      "metadata": {
        "colab": {
          "base_uri": "https://localhost:8080/"
        },
        "id": "QzmDVqgY8ZvX",
        "outputId": "005c7195-13f5-4f4f-8469-be3fabf1f82c"
      },
      "outputs": [
        {
          "output_type": "stream",
          "name": "stdout",
          "text": [
            "Hasil Perhitungan:\n",
            "\n",
            "Rata-rata Kedatangan (λ): 15.00 pelanggan per 4 jam\n",
            "Rata-rata Pelayanan (μ): 20 pelanggan per 4 jam\n",
            "Tingkat Intensitas Pelayanan (P): 0.75\n",
            "Probabilitas sistem tidak memiliki pelanggan: 0.25\n",
            "Jumlah rata-rata pelanggan dalam sistem (Ls): 3.00 pelanggan\n",
            "Jumlah rata-rata pelanggan dalam antrian (Lq): 2.25 pelanggan\n",
            "Waktu rata-rata dalam sistem (Ws): 0.20 jam\n",
            "Waktu rata-rata menunggu dalam antrian (Wq): 0.15 jam\n"
          ]
        }
      ],
      "source": [
        "hari = [\"Jumat\", \"Sabtu\", \"Minggu\"]\n",
        "kedatangan = [12, 14, 18]\n",
        "pelayanan = 20\n",
        "lambda_rate = round(sum(kedatangan) / len(kedatangan))\n",
        "mu_rate = pelayanan\n",
        "\n",
        "# Tingkat Intensitas Pelayanan (P)\n",
        "P = lambda_rate / mu_rate\n",
        "\n",
        "# Probabilitas sistem tidak memiliki pelanggan\n",
        "prob_no_customer = 1 - P\n",
        "\n",
        "# Jumlah rata-rata pelanggan dalam sistem (Ls)\n",
        "Ls = lambda_rate / (mu_rate - lambda_rate)\n",
        "\n",
        "# Jumlah rata-rata pelanggan dalam antrian (Lq)\n",
        "Lq = (lambda_rate ** 2) / (mu_rate * (mu_rate - lambda_rate))\n",
        "\n",
        "# Waktu rata-rata dalam sistem (Ws)\n",
        "Ws = 1 / (mu_rate - lambda_rate)\n",
        "\n",
        "# Waktu rata-rata menunggu dalam antrian (Wq)\n",
        "Wq = lambda_rate / (mu_rate * (mu_rate - lambda_rate))\n",
        "\n",
        "# Menampilkan hasil\n",
        "print(\"Hasil Perhitungan:\\n\")\n",
        "print(f\"Rata-rata Kedatangan (λ): {lambda_rate:.2f} pelanggan per 4 jam\")\n",
        "print(f\"Rata-rata Pelayanan (μ): {mu_rate} pelanggan per 4 jam\")\n",
        "print(f\"Tingkat Intensitas Pelayanan (P): {P:.2f}\")\n",
        "print(f\"Probabilitas sistem tidak memiliki pelanggan: {prob_no_customer:.2f}\")\n",
        "print(f\"Jumlah rata-rata pelanggan dalam sistem (Ls): {Ls:.2f} pelanggan\")\n",
        "print(f\"Jumlah rata-rata pelanggan dalam antrian (Lq): {Lq:.2f} pelanggan\")\n",
        "print(f\"Waktu rata-rata dalam sistem (Ws): {Ws:.2f} jam\")\n",
        "print(f\"Waktu rata-rata menunggu dalam antrian (Wq): {Wq:.2f} jam\")\n"
      ]
    }
  ]
}